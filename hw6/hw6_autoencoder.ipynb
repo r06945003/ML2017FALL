{
 "cells": [
  {
   "cell_type": "code",
   "execution_count": 109,
   "metadata": {
    "collapsed": true
   },
   "outputs": [],
   "source": [
    "import math\n",
    "import numpy as np\n",
    "import matplotlib.pyplot as plt\n",
    "import csv\n",
    "from sklearn.cluster import KMeans\n",
    "from keras.layers import Input, Dense\n",
    "from keras.models import Model, load_model"
   ]
  },
  {
   "cell_type": "code",
   "execution_count": 99,
   "metadata": {
    "collapsed": true
   },
   "outputs": [],
   "source": [
    "image = np.load('image.npy')"
   ]
  },
  {
   "cell_type": "code",
   "execution_count": 100,
   "metadata": {
    "collapsed": true
   },
   "outputs": [],
   "source": [
    "image = image/255. - 0.5"
   ]
  },
  {
   "cell_type": "code",
   "execution_count": 101,
   "metadata": {
    "collapsed": true
   },
   "outputs": [],
   "source": [
    "encoding_dim = 64  \n",
    "input_img = Input(shape=(784,))\n",
    "encoded = Dense(256, activation='relu')(input_img)\n",
    "encoded = Dense(128, activation='relu')(encoded)\n",
    "encoded = Dense(encoding_dim, activation='relu')(encoded)\n",
    "\n",
    "decoded = Dense(128, activation='relu')(encoded)\n",
    "decoded = Dense(256, activation='relu')(decoded)\n",
    "decoded = Dense(784, activation='tanh')(decoded)\n",
    "\n",
    "autoencoder = Model(input_img, decoded)"
   ]
  },
  {
   "cell_type": "code",
   "execution_count": 102,
   "metadata": {
    "collapsed": true
   },
   "outputs": [],
   "source": [
    "# this model maps an input to its encoded representation\n",
    "encoder = Model(input_img, encoded)\n",
    "\n",
    "# create a placeholder for an encoded (32-dimensional) input\n",
    "#encoded_input = Input(shape=(encoding_dim,))\n",
    "# retrieve the last layer of the autoencoder model\n",
    "#decoder_layer = autoencoder.layers[-1]\n",
    "# create the decoder model\n",
    "#decoder = Model(encoded_input, decoder_layer(encoded_input))\n"
   ]
  },
  {
   "cell_type": "code",
   "execution_count": 103,
   "metadata": {
    "scrolled": true
   },
   "outputs": [
    {
     "name": "stdout",
     "output_type": "stream",
     "text": [
      "Epoch 1/30\n",
      "140000/140000 [==============================] - 20s - loss: 0.0435    \n",
      "Epoch 2/30\n",
      "140000/140000 [==============================] - 17s - loss: 0.0239    \n",
      "Epoch 3/30\n",
      "140000/140000 [==============================] - 17s - loss: 0.0198    \n",
      "Epoch 4/30\n",
      "140000/140000 [==============================] - 18s - loss: 0.0176    \n",
      "Epoch 5/30\n",
      "140000/140000 [==============================] - 14s - loss: 0.0164    \n",
      "Epoch 6/30\n",
      "140000/140000 [==============================] - 128s - loss: 0.0156   \n",
      "Epoch 7/30\n",
      "140000/140000 [==============================] - 181s - loss: 0.0150   \n",
      "Epoch 8/30\n",
      "140000/140000 [==============================] - 25s - loss: 0.0145    \n",
      "Epoch 9/30\n",
      "140000/140000 [==============================] - 51s - loss: 0.0141    \n",
      "Epoch 10/30\n",
      "140000/140000 [==============================] - 26s - loss: 0.0138    \n",
      "Epoch 11/30\n",
      "140000/140000 [==============================] - 545s - loss: 0.0136   \n",
      "Epoch 12/30\n",
      "140000/140000 [==============================] - 360s - loss: 0.0133   \n",
      "Epoch 13/30\n",
      "140000/140000 [==============================] - 22s - loss: 0.0131    \n",
      "Epoch 14/30\n",
      "140000/140000 [==============================] - 158s - loss: 0.0130   \n",
      "Epoch 15/30\n",
      "140000/140000 [==============================] - 24s - loss: 0.0128    \n",
      "Epoch 16/30\n",
      "140000/140000 [==============================] - 20s - loss: 0.0127    \n",
      "Epoch 17/30\n",
      "140000/140000 [==============================] - 20s - loss: 0.0126    \n",
      "Epoch 18/30\n",
      "140000/140000 [==============================] - 18s - loss: 0.0125    \n",
      "Epoch 19/30\n",
      "140000/140000 [==============================] - 17s - loss: 0.0124    \n",
      "Epoch 20/30\n",
      "140000/140000 [==============================] - 17s - loss: 0.0123    \n",
      "Epoch 21/30\n",
      "140000/140000 [==============================] - 17s - loss: 0.0122    \n",
      "Epoch 22/30\n",
      "140000/140000 [==============================] - 18s - loss: 0.0121    \n",
      "Epoch 23/30\n",
      "140000/140000 [==============================] - 17s - loss: 0.0120    \n",
      "Epoch 24/30\n",
      "140000/140000 [==============================] - 17s - loss: 0.0119    \n",
      "Epoch 25/30\n",
      "140000/140000 [==============================] - 17s - loss: 0.0119    \n",
      "Epoch 26/30\n",
      "140000/140000 [==============================] - 17s - loss: 0.0118    \n",
      "Epoch 27/30\n",
      "140000/140000 [==============================] - 17s - loss: 0.0117    \n",
      "Epoch 28/30\n",
      "140000/140000 [==============================] - 17s - loss: 0.0117    \n",
      "Epoch 29/30\n",
      "140000/140000 [==============================] - 17s - loss: 0.0116    \n",
      "Epoch 30/30\n",
      "140000/140000 [==============================] - 17s - loss: 0.0116    \n"
     ]
    },
    {
     "data": {
      "text/plain": [
       "<keras.callbacks.History at 0x18716d5f8>"
      ]
     },
     "execution_count": 103,
     "metadata": {},
     "output_type": "execute_result"
    }
   ],
   "source": [
    "autoencoder.compile(optimizer='adam', loss='mse')\n",
    "\n",
    "autoencoder.fit(image, image,\n",
    "                epochs=30,\n",
    "                batch_size=512,\n",
    "                shuffle=True,\n",
    "                )"
   ]
  },
  {
   "cell_type": "code",
   "execution_count": 92,
   "metadata": {
    "collapsed": true
   },
   "outputs": [],
   "source": [
    "encoded_imgs = encoder.predict(image)\n",
    "decoded_imgs = autoencoder.predict(image)"
   ]
  },
  {
   "cell_type": "code",
   "execution_count": 93,
   "metadata": {},
   "outputs": [
    {
     "data": {
      "image/png": "[encoded data removed]",
      "text/plain": [
       "<matplotlib.figure.Figure at 0x184fa2780>"
      ]
     },
     "metadata": {},
     "output_type": "display_data"
    }
   ],
   "source": [
    "import matplotlib.pyplot as plt\n",
    "\n",
    "n = 10  # how many digits we will display\n",
    "plt.figure(figsize=(20, 4))\n",
    "for i in range(n):\n",
    "    # display original\n",
    "    ax = plt.subplot(2, n, i + 1)\n",
    "    plt.imshow(image[i].reshape(28, 28))\n",
    "    plt.gray()\n",
    "    ax.get_xaxis().set_visible(False)\n",
    "    ax.get_yaxis().set_visible(False)\n",
    "\n",
    "    # display reconstruction\n",
    "    ax = plt.subplot(2, n, i + 1 + n)\n",
    "    plt.imshow(decoded_imgs[i].reshape(28, 28))\n",
    "    plt.gray()\n",
    "    ax.get_xaxis().set_visible(False)\n",
    "    ax.get_yaxis().set_visible(False)\n",
    "plt.show()"
   ]
  },
  {
   "cell_type": "code",
   "execution_count": 104,
   "metadata": {
    "collapsed": true
   },
   "outputs": [],
   "source": [
    "image_re = encoder.predict(image)"
   ]
  },
  {
   "cell_type": "code",
   "execution_count": 105,
   "metadata": {
    "collapsed": true
   },
   "outputs": [],
   "source": [
    "kmeans_fit = KMeans(n_clusters = 2).fit(image_re)\n",
    "cluster_labels = kmeans_fit.labels_"
   ]
  },
  {
   "cell_type": "code",
   "execution_count": 106,
   "metadata": {
    "collapsed": true
   },
   "outputs": [],
   "source": [
    "text = open('test_case.csv', 'r') \n",
    "row = csv.reader(text , delimiter=\"\\n\")\n",
    "count = 0\n",
    "first = []\n",
    "second = []\n",
    "for r in row:\n",
    "    if count > 0:\n",
    "        r = r[0].split(',')\n",
    "        first.append(int(r[1]))\n",
    "        second.append(int(r[2]))\n",
    "    count = 1\n",
    "text.close()\n",
    "\n",
    "ans = []\n",
    "for i in range(len(first)):\n",
    "    ans.append([str(i)])\n",
    "    if cluster_labels[first[i]] == cluster_labels[second[i]]:\n",
    "        a = str(1)\n",
    "    else:\n",
    "        a = str(0)\n",
    "    ans[i].append(a)\n",
    "\n",
    "filename = 'hw6_autoencoder_dim=64_1226_2.csv'\n",
    "text = open(filename, \"w+\")\n",
    "s = csv.writer(text,delimiter=',',lineterminator='\\n')\n",
    "s.writerow(['ID','Ans'])\n",
    "for i in range(len(ans)):\n",
    "    s.writerow(ans[i]) \n",
    "text.close()"
   ]
  },
  {
   "cell_type": "code",
   "execution_count": 107,
   "metadata": {
    "collapsed": true
   },
   "outputs": [],
   "source": [
    "encoder.save('hw6_encoder_dim=64_1226_2.hdf5')"
   ]
  },
  {
   "cell_type": "code",
   "execution_count": 108,
   "metadata": {
    "collapsed": true
   },
   "outputs": [],
   "source": [
    "autoencoder.save('hw6_autoencoder_dim=64_1226_2.hdf5')"
   ]
  },
  {
   "cell_type": "code",
   "execution_count": null,
   "metadata": {
    "collapsed": true
   },
   "outputs": [],
   "source": []
  },
  {
   "cell_type": "code",
   "execution_count": 165,
   "metadata": {},
   "outputs": [
    {
     "name": "stderr",
     "output_type": "stream",
     "text": [
      "/Users/uri/anaconda/lib/python3.6/site-packages/keras/models.py:251: UserWarning: No training configuration found in save file: the model was *not* compiled. Compile it manually.\n",
      "  warnings.warn('No training configuration found in save file: '\n"
     ]
    }
   ],
   "source": [
    "encoder = load_model('hw6_encoder_dim=64_1226_2.hdf5')"
   ]
  },
  {
   "cell_type": "code",
   "execution_count": 166,
   "metadata": {
    "collapsed": true
   },
   "outputs": [],
   "source": [
    "tmp = np.load('visualization.npy')"
   ]
  },
  {
   "cell_type": "code",
   "execution_count": 167,
   "metadata": {
    "collapsed": true
   },
   "outputs": [],
   "source": [
    "res = encoder.predict(tmp)"
   ]
  },
  {
   "cell_type": "code",
   "execution_count": 168,
   "metadata": {
    "collapsed": true
   },
   "outputs": [],
   "source": [
    "kmeans_fit = KMeans(n_clusters = 2).fit(res)\n",
    "cluster_labels = kmeans_fit.labels_"
   ]
  },
  {
   "cell_type": "code",
   "execution_count": 169,
   "metadata": {},
   "outputs": [
    {
     "data": {
      "text/plain": [
       "array([0, 0, 0, ..., 0, 1, 0], dtype=int32)"
      ]
     },
     "execution_count": 169,
     "metadata": {},
     "output_type": "execute_result"
    }
   ],
   "source": [
    "cluster_labels"
   ]
  },
  {
   "cell_type": "code",
   "execution_count": 136,
   "metadata": {
    "collapsed": true
   },
   "outputs": [],
   "source": [
    "from sklearn.decomposition import PCA\n",
    "from sklearn.manifold import TSNE\n",
    "#for_vis = PCA(n_components=2).fit_transform(res)\n",
    "for_vis = TSNE(n_components=2).fit_transform(res)"
   ]
  },
  {
   "cell_type": "code",
   "execution_count": 137,
   "metadata": {},
   "outputs": [
    {
     "data": {
      "text/plain": [
       "array([[ -6.79622979e+10,   9.03971214e+11],\n",
       "       [ -2.42886243e+11,  -2.44494542e+11],\n",
       "       [  3.45784112e+11,  -3.59521134e+11],\n",
       "       ..., \n",
       "       [ -8.01760261e+11,   2.83770001e+11],\n",
       "       [  2.76140822e+10,   7.52042627e+11],\n",
       "       [  8.98288684e+11,  -1.22862198e+12]])"
      ]
     },
     "execution_count": 137,
     "metadata": {},
     "output_type": "execute_result"
    }
   ],
   "source": [
    "for_vis"
   ]
  },
  {
   "cell_type": "code",
   "execution_count": 182,
   "metadata": {},
   "outputs": [
    {
     "data": {
      "image/png": "[encoded data removed]",
      "text/plain": [
       "<matplotlib.figure.Figure at 0x17eaf6ef0>"
      ]
     },
     "metadata": {},
     "output_type": "display_data"
    }
   ],
   "source": [
    "#plt.figure()\n",
    "plt.scatter(for_vis[0:5000,0], for_vis[0:5000,1], c = 'r', label = 'dataset_0', s = 0.2)\n",
    "plt.scatter(for_vis[5000:10000,0], for_vis[5000:10000,1], c = 'b',label = 'dataset_1', s = 0.2)\n",
    "plt.legend()\n",
    "plt.savefig('label_2.png')\n",
    "plt.show()"
   ]
  },
  {
   "cell_type": "code",
   "execution_count": 178,
   "metadata": {
    "collapsed": true
   },
   "outputs": [],
   "source": [
    "red = []\n",
    "blue = []\n",
    "for k in range(10000):\n",
    "    if cluster_labels[k] == 0:\n",
    "        red.append(for_vis[k])\n",
    "    else:\n",
    "        blue.append(for_vis[k])\n",
    "red = np.array(red)\n",
    "blue = np.array(blue)"
   ]
  },
  {
   "cell_type": "code",
   "execution_count": 181,
   "metadata": {},
   "outputs": [
    {
     "data": {
      "image/png": "[encoded data removed]",
      "text/plain": [
       "<matplotlib.figure.Figure at 0x1935e52b0>"
      ]
     },
     "metadata": {},
     "output_type": "display_data"
    }
   ],
   "source": [
    "plt.scatter(red[:,0], red[:,1], c = 'r' , label = 'dataset_0', s = 0.2)\n",
    "plt.scatter(blue[:,0], blue[:,1], c = 'b' , label = 'dataset_1', s = 0.2)\n",
    "#plt.scatter(for_vis[5000:10000,0], for_vis[5000:10000,1], c = 'b',marker = 'o')\n",
    "plt.legend()\n",
    "plt.savefig('label.png')\n",
    "plt.show()"
   ]
  }
 ],
 "metadata": {
  "kernelspec": {
   "display_name": "Python 3",
   "language": "python",
   "name": "python3"
  },
  "language_info": {
   "codemirror_mode": {
    "name": "ipython",
    "version": 3
   },
   "file_extension": ".py",
   "mimetype": "text/x-python",
   "name": "python",
   "nbconvert_exporter": "python",
   "pygments_lexer": "ipython3",
   "version": "3.6.1"
  }
 },
 "nbformat": 4,
 "nbformat_minor": 2
}
