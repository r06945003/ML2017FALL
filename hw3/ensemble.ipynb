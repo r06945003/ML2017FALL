{
 "cells": [
  {
   "cell_type": "code",
   "execution_count": 1,
   "metadata": {
    "collapsed": true
   },
   "outputs": [],
   "source": [
    "import numpy as np   \n",
    "import csv "
   ]
  },
  {
   "cell_type": "code",
   "execution_count": 2,
   "metadata": {
    "collapsed": true
   },
   "outputs": [],
   "source": [
    "def readcsv(filepath):\n",
    "    label = []\n",
    "\n",
    "    n_row = 0\n",
    "    test = open(filepath, 'r', encoding='big5') \n",
    "    row = csv.reader(test , delimiter=\",\")\n",
    "    for r in row:\n",
    "        # 第0列沒有資訊\n",
    "        if n_row != 0:\n",
    "            label.append(r[1])\n",
    "        n_row = n_row+1\n",
    "    test.close()\n",
    "    label = np.array(label)\n",
    "    label = label.astype(np.int64)\n",
    "    label = label.reshape([7178,1])\n",
    "    return label"
   ]
  },
  {
   "cell_type": "code",
   "execution_count": 35,
   "metadata": {
    "collapsed": true
   },
   "outputs": [],
   "source": [
    "label_1 = readcsv('predict_A_bear_4.csv')\n",
    "label_2 = readcsv('predict_A_bear_3.csv')\n",
    "label_3 = readcsv('predict_A_bear_2.csv')\n",
    "label_4 = readcsv('predict_A_bear.csv')\n",
    "#label_5 = readcsv('predict_net_model_2.csv')\n",
    "#label_6 = readcsv('predict_net_model.csv')\n",
    "#label_7 = readcsv('predict_A_bear_5.csv')\n",
    "#label_8 = readcsv('predict_A_bear_6.csv')\n",
    "#label_9 = readcsv('Do_not_fuck_a_bear.csv')\n",
    "#label_10 = readcsv('hw3_ensemble.csv')\n",
    "#label_11 = readcsv('hw3_ensemble_2.csv')"
   ]
  },
  {
   "cell_type": "code",
   "execution_count": 42,
   "metadata": {
    "collapsed": true
   },
   "outputs": [],
   "source": [
    "#label = np.concatenate((label_1, label_2, label_3, label_4, label_5, label_6, label_7, label_8, label_9, label_10, label_10, label_11), axis = 1)\n",
    "#label = np.concatenate((label_1, label_2, label_3, label_4), axis = 1)\n",
    "label = np.concatenate((label_1, label_2, label_3), axis = 1)"
   ]
  },
  {
   "cell_type": "code",
   "execution_count": 43,
   "metadata": {
    "collapsed": true
   },
   "outputs": [],
   "source": [
    "ans = []\n",
    "for i in range(7178):\n",
    "    ans.append([str(i)])\n",
    "    ans[i].append(np.argmax(np.bincount(label[i])))\n",
    "\n",
    "filename = \"hw3_ensemble_only3.csv\"\n",
    "text = open(filename, \"w+\")\n",
    "s = csv.writer(text,delimiter=',',lineterminator='\\n')\n",
    "s.writerow([\"id\",\"label\"])\n",
    "for i in range(len(ans)):\n",
    "    s.writerow(ans[i]) \n",
    "text.close()"
   ]
  },
  {
   "cell_type": "code",
   "execution_count": null,
   "metadata": {
    "collapsed": true
   },
   "outputs": [],
   "source": []
  }
 ],
 "metadata": {
  "kernelspec": {
   "display_name": "Python 3",
   "language": "python",
   "name": "python3"
  },
  "language_info": {
   "codemirror_mode": {
    "name": "ipython",
    "version": 3
   },
   "file_extension": ".py",
   "mimetype": "text/x-python",
   "name": "python",
   "nbconvert_exporter": "python",
   "pygments_lexer": "ipython3",
   "version": "3.6.1"
  }
 },
 "nbformat": 4,
 "nbformat_minor": 2
}
