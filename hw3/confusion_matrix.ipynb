{
 "cells": [
  {
   "cell_type": "code",
   "execution_count": 1,
   "metadata": {},
   "outputs": [
    {
     "name": "stderr",
     "output_type": "stream",
     "text": [
      "Using TensorFlow backend.\n"
     ]
    }
   ],
   "source": [
    "from keras.models import load_model\n",
    "from sklearn.metrics import confusion_matrix\n",
    "from keras.utils import *\n",
    "import itertools\n",
    "import numpy as np\n",
    "import matplotlib.pyplot as plt\n",
    "from sklearn.model_selection import train_test_split\n",
    "import csv\n",
    "#from keras import backend as k\n",
    "#k.set_learning_phase(1)"
   ]
  },
  {
   "cell_type": "code",
   "execution_count": 2,
   "metadata": {
    "collapsed": true
   },
   "outputs": [],
   "source": [
    "'''\n",
    "x = []\n",
    "y = []\n",
    "\n",
    "n_row = 0\n",
    "text = open('train.csv', 'r') \n",
    "#text = open(loadpath + '/train.csv', 'r') \n",
    "row = csv.reader(text, delimiter=\",\")\n",
    "for r in row:\n",
    "    if n_row != 0:\n",
    "        y.append(r[0])\n",
    "        r[1] = np.array(r[1].split(' '))\n",
    "        r[1] = np.reshape(r[1], (1, 48, 48))\n",
    "        x.append(r[1])\n",
    "    n_row = n_row+1\n",
    "text.close()\n",
    "x = np.array(x)\n",
    "y = np.array(y)\n",
    "x = x.astype(np.float64)\n",
    "x = x/255\n",
    "y = y.astype(np.int)\n",
    "y = np_utils.to_categorical(y, num_classes=7)\n",
    "\n",
    "x_train, x_val, y_train, y_val = train_test_split(x, y, test_size=0.2)\n",
    "'''\n",
    "x_train = np.load('x_train.npy')\n",
    "y_train = np.load('y_train.npy')\n",
    "x_val = np.load('x_val.npy')\n",
    "y_val = np.load('y_val.npy')"
   ]
  },
  {
   "cell_type": "code",
   "execution_count": 3,
   "metadata": {
    "collapsed": true
   },
   "outputs": [],
   "source": [
    "def plot_confusion_matrix(cm, classes,\n",
    "                          title='Confusion matrix',\n",
    "                          cmap=plt.cm.jet):\n",
    "    \"\"\"\n",
    "    This function prints and plots the confusion matrix.\n",
    "    \"\"\"\n",
    "    cm = cm.astype('float') / cm.sum(axis=1)[:, np.newaxis]\n",
    "    plt.imshow(cm, interpolation='nearest', cmap=cmap)\n",
    "    plt.title(title)\n",
    "    plt.colorbar()\n",
    "    tick_marks = np.arange(len(classes))\n",
    "    plt.xticks(tick_marks, classes, rotation=45)\n",
    "    plt.yticks(tick_marks, classes)\n",
    "\n",
    "    thresh = cm.max() / 2.\n",
    "    for i, j in itertools.product(range(cm.shape[0]), range(cm.shape[1])):\n",
    "        plt.text(j, i, '{:.2f}'.format(cm[i, j]), horizontalalignment=\"center\",\n",
    "                 color=\"white\" if cm[i, j] > thresh else \"black\")\n",
    "    plt.tight_layout()\n",
    "    plt.ylabel('True label')\n",
    "    plt.xlabel('Predicted label')"
   ]
  },
  {
   "cell_type": "code",
   "execution_count": 10,
   "metadata": {
    "collapsed": true
   },
   "outputs": [],
   "source": [
    "'''\n",
    "def main():\n",
    "    model_path = 'AUG_final_8.hdf5'\n",
    "    emotion_classifier = load_model(model_path)\n",
    "    np.set_printoptions(precision=2)\n",
    "    \n",
    "    dev_feats = x_val\n",
    "    \n",
    "    predictions = emotion_classifier.predict(dev_feats)\n",
    "    predictions = predictions.argmax(axis=-1)\n",
    "    print (predictions)\n",
    "    te_labels = y_val\n",
    "    print (te_labels)\n",
    "    conf_mat = confusion_matrix(te_labels,predictions)\n",
    "\n",
    "    plt.figure()\n",
    "    plot_confusion_matrix(conf_mat, classes=[\"Angry\",\"Disgust\",\"Fear\",\"Happy\",\"Sad\",\"Surprise\",\"Neutral\"])\n",
    "    plt.show()\n",
    "'''"
   ]
  },
  {
   "cell_type": "code",
   "execution_count": 4,
   "metadata": {
    "collapsed": true
   },
   "outputs": [],
   "source": [
    "from keras import backend as k\n",
    "k.set_learning_phase(1)"
   ]
  },
  {
   "cell_type": "code",
   "execution_count": 5,
   "metadata": {
    "collapsed": true
   },
   "outputs": [],
   "source": [
    "model_path = 'fuck34_val.hdf5'\n",
    "emotion_classifier = load_model(model_path)\n",
    "np.set_printoptions(precision=2)"
   ]
  },
  {
   "cell_type": "code",
   "execution_count": 6,
   "metadata": {},
   "outputs": [
    {
     "name": "stdout",
     "output_type": "stream",
     "text": [
      "[2 4 3 ..., 3 4 4]\n",
      "[2 2 3 ..., 6 4 6]\n"
     ]
    }
   ],
   "source": [
    "dev_feats = x_val\n",
    "    \n",
    "predictions = emotion_classifier.predict(dev_feats)\n",
    "predictions = predictions.argmax(axis=1)\n",
    "print (predictions)\n",
    "te_labels = y_val\n",
    "te_labels = np.argmax(te_labels, axis=1)\n",
    "print (te_labels)"
   ]
  },
  {
   "cell_type": "code",
   "execution_count": 7,
   "metadata": {
    "collapsed": true
   },
   "outputs": [],
   "source": [
    "conf_mat = confusion_matrix(te_labels,predictions)"
   ]
  },
  {
   "cell_type": "code",
   "execution_count": 8,
   "metadata": {},
   "outputs": [
    {
     "data": {
      "image/png": "[encoded data removed]",
      "text/plain": [
       "<matplotlib.figure.Figure at 0x139aae4a8>"
      ]
     },
     "metadata": {},
     "output_type": "display_data"
    }
   ],
   "source": [
    "plt.figure()\n",
    "plot_confusion_matrix(conf_mat, classes=[\"Angry\",\"Disgust\",\"Fear\",\"Happy\",\"Sad\",\"Surprise\",\"Neutral\"])\n",
    "plt.show()"
   ]
  }
 ],
 "metadata": {
  "kernelspec": {
   "display_name": "Python 3",
   "language": "python",
   "name": "python3"
  },
  "language_info": {
   "codemirror_mode": {
    "name": "ipython",
    "version": 3
   },
   "file_extension": ".py",
   "mimetype": "text/x-python",
   "name": "python",
   "nbconvert_exporter": "python",
   "pygments_lexer": "ipython3",
   "version": "3.6.1"
  }
 },
 "nbformat": 4,
 "nbformat_minor": 2
}
